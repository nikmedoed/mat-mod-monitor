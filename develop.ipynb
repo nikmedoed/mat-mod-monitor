{
 "cells": [
  {
   "cell_type": "code",
   "execution_count": 2,
   "metadata": {},
   "outputs": [],
   "source": [
    "from app.getData import getData, autorize\n",
    "from app.browser import getBrowser\n",
    "from app.printer import getGservice, writeData\n",
    "import json\n",
    "from time import sleep\n",
    "from datetime import datetime\n",
    "\n",
    "settings = json.loads(open(\"settings.json\", \"r\").read())\n",
    "names = set()\n",
    "browser = getBrowser()\n",
    "    \n",
    "autorize(browser, settings['login'], settings['password'], settings['link'])\n",
    "\n",
    "service = getGservice(settings['keyname'])\n",
    "fsid = 0\n",
    "ssID = settings['spreadshitID']\n",
    "data = []\n",
    "sch = 0"
   ]
  },
  {
   "cell_type": "code",
   "execution_count": 3,
   "metadata": {},
   "outputs": [
    {
     "name": "stdout",
     "output_type": "stream",
     "text": [
      "clicked\n"
     ]
    }
   ],
   "source": [
    "push = browser.find_element_by_xpath('//*[@id=\"Pagination\"]/ul/li[2]/a')\n",
    "if push.text == \"1\":\n",
    "    push.click()\n",
    "    print(\"clicked\")\n"
   ]
  },
  {
   "cell_type": "code",
   "execution_count": 4,
   "metadata": {},
   "outputs": [
    {
     "name": "stdout",
     "output_type": "stream",
     "text": [
      "24975469\n"
     ]
    }
   ],
   "source": [
    "new = []\n",
    "firstid = browser.find_element_by_xpath('//*[@id=\"Searchresult\"]/table/tbody/tr[2]/td').text\n",
    "print(firstid)\n",
    "pagenum = 1\n",
    "tfirst = 0\n",
    "bre = False"
   ]
  },
  {
   "cell_type": "code",
   "execution_count": 39,
   "metadata": {},
   "outputs": [
    {
     "name": "stdout",
     "output_type": "stream",
     "text": [
      "['24975469', 'Полина Верченко', '2955. Улитка', '0', 'Частичное решение']\n",
      "['24966334', 'Полина Верченко', '2955. Улитка', '0', 'Частичное решение']\n",
      "['24966311', 'Полина Верченко', '2955. Улитка', '0', 'Частичное решение']\n",
      "['24966272', 'Полина Верченко', '2955. Улитка', '0', 'Частичное решение']\n",
      "['24966261', 'Полина Верченко', '2955. Улитка', '0', 'Частичное решение']\n",
      "['24966227', 'Полина Верченко', '2955. Улитка', '0', 'Частичное решение']\n",
      "['24965901', 'Полина Верченко', '352. Степень', '100', 'OK']\n",
      "['24951834', 'Валентин Ковалев', '1476. Часовая стрелка', '100', 'OK']\n",
      "['24951658', 'Валентин Ковалев', '1476. Часовая стрелка', '0', 'Частичное решение']\n",
      "['24950928', 'Валентин Ковалев', '2958. Максимум', '100', 'OK']\n"
     ]
    }
   ],
   "source": [
    "elem = browser.find_elements_by_xpath('//*[@id=\"Searchresult\"]/table/tbody/tr')\n",
    "del (elem[0])\n",
    "for el in elem[::2]:\n",
    "    e = el.find_elements_by_tag_name('td')\n",
    "    res = list(map(lambda a: e[a], [0, 1, 2, 7]))\n",
    "    resus = list(map(lambda a: a.text, res))    \n",
    "    resus.append(e[5].find_element_by_xpath('*//option[@selected=\"selected\"]').text.strip().replace('\\n',''))\n",
    "    print(resus)\n",
    "    \n",
    "#     print(list(map(lambda a: a.text, filter (e[5].find_elements_by_tag_name('option'))))) \n",
    "#     print(list(map(lambda a: a.text.strip().replace('\\n',''), e[5].find_elements_by_xpath('*//option[@selected=\"selected\"]')))) \n",
    "\n",
    "#     print(e[5].find_element_by_xpath('*//option[@selected=\"selected\"]').text.strip().replace('\\n',''))\n",
    "    \n",
    "    #.text.replace(\"\\n\\n\",\"\\n\").replace(\"  \",\" \")\n"
   ]
  },
  {
   "cell_type": "code",
   "execution_count": 40,
   "metadata": {},
   "outputs": [
    {
     "name": "stdout",
     "output_type": "stream",
     "text": [
      "['']\n"
     ]
    }
   ],
   "source": []
  },
  {
   "cell_type": "code",
   "execution_count": 38,
   "metadata": {},
   "outputs": [
    {
     "ename": "IndentationError",
     "evalue": "expected an indented block (<ipython-input-38-fe1c0a974380>, line 9)",
     "output_type": "error",
     "traceback": [
      "\u001b[1;36m  File \u001b[1;32m\"<ipython-input-38-fe1c0a974380>\"\u001b[1;36m, line \u001b[1;32m9\u001b[0m\n\u001b[1;33m    break\u001b[0m\n\u001b[1;37m    ^\u001b[0m\n\u001b[1;31mIndentationError\u001b[0m\u001b[1;31m:\u001b[0m expected an indented block\n"
     ]
    }
   ],
   "source": []
  }
 ],
 "metadata": {
  "kernelspec": {
   "display_name": "Python 3",
   "language": "python",
   "name": "python3"
  },
  "language_info": {
   "codemirror_mode": {
    "name": "ipython",
    "version": 3
   },
   "file_extension": ".py",
   "mimetype": "text/x-python",
   "name": "python",
   "nbconvert_exporter": "python",
   "pygments_lexer": "ipython3",
   "version": "3.8.3"
  }
 },
 "nbformat": 4,
 "nbformat_minor": 4
}
